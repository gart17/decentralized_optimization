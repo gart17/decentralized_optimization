{
 "cells": [
  {
   "cell_type": "code",
   "execution_count": 37,
   "metadata": {
    "collapsed": false
   },
   "outputs": [],
   "source": [
    "import os\n",
    "os.environ['TF_CPP_MIN_LOG_LEVEL']='2'\n",
    "\n",
    "import numpy as np\n",
    "import tensorflow as tf\n",
    "import networkx as nx\n",
    "\n",
    "from tensorflow.examples.tutorials.mnist import input_data\n",
    "\n",
    "from tools import combination_policy\n",
    "from tools.show_tf_graph import show_graph\n",
    "from copy import deepcopy"
   ]
  },
  {
   "cell_type": "code",
   "execution_count": 2,
   "metadata": {
    "collapsed": false
   },
   "outputs": [
    {
     "name": "stdout",
     "output_type": "stream",
     "text": [
      "Extracting /data/mnist\\train-images-idx3-ubyte.gz\n",
      "Extracting /data/mnist\\train-labels-idx1-ubyte.gz\n",
      "Extracting /data/mnist\\t10k-images-idx3-ubyte.gz\n",
      "Extracting /data/mnist\\t10k-labels-idx1-ubyte.gz\n"
     ]
    }
   ],
   "source": [
    "mnist = input_data.read_data_sets('/data/mnist', one_hot=True)"
   ]
  },
  {
   "cell_type": "code",
   "execution_count": 3,
   "metadata": {
    "collapsed": true
   },
   "outputs": [],
   "source": [
    "BATCH_SIZE = 32\n",
    "N_EPOCHS = 30\n",
    "N_AGENTS = 3\n",
    "A = np.ones((N_AGENTS,N_AGENTS))/N_AGENTS"
   ]
  },
  {
   "cell_type": "markdown",
   "metadata": {},
   "source": [
    "## Early Development"
   ]
  },
  {
   "cell_type": "markdown",
   "metadata": {},
   "source": [
    "### Topology"
   ]
  },
  {
   "cell_type": "code",
   "execution_count": 20,
   "metadata": {
    "collapsed": false
   },
   "outputs": [],
   "source": [
    "class Topology:\n",
    "    \n",
    "    def __init__(self, n_agents=5, density=0.6, policy='metropolis', adjacency_matrix=None):\n",
    "        if adjacency_matrix is not None:\n",
    "            assert(adjacency_matrix.shape[0] == adjacency_matrix.shape[1])\n",
    "            self.adjacency_matrix = adjacency_matrix\n",
    "            self.n_agents = adjacency_matrix.shape[0]\n",
    "        else:\n",
    "            graph = nx.random_geometric_graph(n_agents, radius=density)\n",
    "            if policy == 'metropolis':\n",
    "                adjacency_matrix = combination_policy.metropolis_matrix(graph)\n",
    "            elif policy == 'average':\n",
    "                adjacency_matrix = combination_policy.averaging_matrix(graph)             \n",
    "            else:\n",
    "                print('Combination policy {0} not supported yet.'.format(rule))\n",
    "                raise NotImplementedError\n",
    "            self.adjacency_matrix = adjacency_matrix\n",
    "            self.n_agents = n_agents\n",
    "        \n",
    "    def neighbor_weights(self, node_index):\n",
    "        return self.adjacency_matrix[node_index, :]\n",
    "    "
   ]
  },
  {
   "cell_type": "code",
   "execution_count": 21,
   "metadata": {
    "collapsed": false
   },
   "outputs": [],
   "source": [
    "t = Topology()"
   ]
  },
  {
   "cell_type": "code",
   "execution_count": 23,
   "metadata": {
    "collapsed": false,
    "scrolled": false
   },
   "outputs": [
    {
     "data": {
      "text/plain": [
       "array([ 0.,  1.,  0.,  0.,  0.])"
      ]
     },
     "execution_count": 23,
     "metadata": {},
     "output_type": "execute_result"
    }
   ],
   "source": [
    "t.neighbor_weights(1)"
   ]
  },
  {
   "cell_type": "markdown",
   "metadata": {},
   "source": [
    "### Model"
   ]
  },
  {
   "cell_type": "code",
   "execution_count": 40,
   "metadata": {
    "collapsed": false
   },
   "outputs": [],
   "source": [
    "class Model:\n",
    "    '''\n",
    "    self.agent_index\n",
    "    self.data\n",
    "    self.parameters\n",
    "    self.loss\n",
    "    \n",
    "    get_gradients\n",
    "    gradient_descent\n",
    "    '''\n",
    "    \n",
    "    def __init__(self, agent_index, data_dict, parameters_dict, loss_model='logistic'):\n",
    "        '''\n",
    "        data_dict: a dict of the form {placeholder_name: tf.placeholder object}\n",
    "        parameters_dict: a dict of the form {variable_name: tf.Variable object}\n",
    "        '''\n",
    "        self.data = dict()\n",
    "        self.parameters = dict()\n",
    "        suffix = str(agent_index)\n",
    "        with tf.name_scope('model' + suffix):\n",
    "            with tf.name_scope('data' + suffix):\n",
    "                for name, data_ph in data_dict.items():\n",
    "                    self.data[name] = tf.identity(data_ph)\n",
    "\n",
    "            with tf.name_scope('parameters' + suffix):\n",
    "                for name, param in parameters_dict.items():\n",
    "                    self.parameters[name] = tf.identity(param)\n",
    "\n",
    "            with tf.name_scope('loss' + suffix):\n",
    "                if loss_model == 'logistic':\n",
    "                    # logistic model using softmax\n",
    "                    # data_dict = {'X': predictor, 'y': predicted_value}\n",
    "                    # parameters_dict = {'W': coefficient, 'b': bias}\n",
    "                    # loss = cross_entropy(softmax(XW + b), y)\n",
    "                    self.loss = tf.reduce_mean(\n",
    "                        tf.nn.softmax_cross_entropy_with_logits(\n",
    "                        logits=tf.matmul(self.data['X'], self.parameters['W']) + self.parameters['b'], \n",
    "                        labels=self.data['y'], \n",
    "                        name='loss'))\n",
    "                else: \n",
    "                    print('Loss model {0} not supported yet.'.format(loss_model))\n",
    "                    raise NotImplementedError\n",
    "    \n",
    "    def get_gradients(self, parameter_names=None):\n",
    "        '''\n",
    "        returns gradients_dict {param_name: gradient_of_param_wrt_loss}\n",
    "        '''\n",
    "        if parameter_names is None:\n",
    "            parameter_names = self.parameters.keys()\n",
    "        gradients = tf.gradients(loss, [self.parameters[name] for name in parameter_names])\n",
    "        return dict(zip(parameter_names, gradients))\n",
    "    \n",
    "    def descent_update(self, step_size, parameter_names=None, gradients_dict=None):\n",
    "        '''\n",
    "        returns descent_dict that updates parameters in parameter_names by -step_size*gradient\n",
    "        '''\n",
    "        if parameter_names is None:\n",
    "            parameter_names = self.parameter.keys()\n",
    "            gradients_dict = self.get_gradients()\n",
    "        descent_ops = dict()\n",
    "        for name in parameter_names:\n",
    "            descent[name] = tf.assign_sub(self.parameters[name], step_size * gradients_dict[name])\n",
    "        return descent_dict"
   ]
  },
  {
   "cell_type": "markdown",
   "metadata": {},
   "source": [
    "### Agent"
   ]
  },
  {
   "cell_type": "code",
   "execution_count": null,
   "metadata": {
    "collapsed": true
   },
   "outputs": [],
   "source": [
    "class Agent:\n",
    "    '''\n",
    "    \n",
    "    '''\n",
    "    def __init__(self, data, model, scheme, neighbor_weights):\n",
    "        self.data = data  # tf Dataset object\n",
    "        self.model = model\n",
    "        self.scheme = scheme\n",
    "        self.neighbor_weights = neighbor_weights\n",
    "        \n",
    "    def train(sess, n_steps, step_size):\n",
    "        # initialization\n",
    "        \n",
    "        # computation phase\n",
    "        \n",
    "        # communication phase\n",
    "        \n",
    "        "
   ]
  },
  {
   "cell_type": "code",
   "execution_count": 13,
   "metadata": {
    "collapsed": true
   },
   "outputs": [],
   "source": []
  },
  {
   "cell_type": "markdown",
   "metadata": {},
   "source": [
    "### Cluster"
   ]
  },
  {
   "cell_type": "code",
   "execution_count": null,
   "metadata": {
    "collapsed": true
   },
   "outputs": [],
   "source": [
    "class Cluster:\n",
    "    \n",
    "    def __init__(self, dataset, model, topology=Topology()):\n",
    "        self.dataset = dataset\n",
    "        self.model = model\n",
    "        self.topology = topology\n",
    "        self.agents = [self.generate_agent(agent_index) \n",
    "                       for agent_index in range(self.topology.n_agents)]\n",
    "    \n",
    "    def generate_agent(self, agent_index):\n",
    "        return Agent(self.model, )\n",
    "        \n",
    "        \n",
    "    def distribute_data(self):\n",
    "        \n",
    "    "
   ]
  },
  {
   "cell_type": "markdown",
   "metadata": {},
   "source": [
    "### Test"
   ]
  },
  {
   "cell_type": "code",
   "execution_count": 43,
   "metadata": {
    "collapsed": false
   },
   "outputs": [
    {
     "data": {
      "text/html": [
       "\n",
       "        <iframe seamless style=\"width:1200px;height:620px;border:0\" srcdoc=\"\n",
       "        <script>\n",
       "          function load() {\n",
       "            document.getElementById(&quot;graph0.7701632988580561&quot;).pbtxt = 'node {\\n  name: &quot;distributor/zeros&quot;\\n  op: &quot;Const&quot;\\n  attr {\\n    key: &quot;dtype&quot;\\n    value {\\n      type: DT_FLOAT\\n    }\\n  }\\n  attr {\\n    key: &quot;value&quot;\\n    value {\\n      tensor {\\n        dtype: DT_FLOAT\\n        tensor_shape {\\n          dim {\\n            size: 784\\n          }\\n          dim {\\n            size: 10\\n          }\\n        }\\n        float_val: 0.0\\n      }\\n    }\\n  }\\n}\\nnode {\\n  name: &quot;distributor/W&quot;\\n  op: &quot;VariableV2&quot;\\n  attr {\\n    key: &quot;container&quot;\\n    value {\\n      s: &quot;&quot;\\n    }\\n  }\\n  attr {\\n    key: &quot;dtype&quot;\\n    value {\\n      type: DT_FLOAT\\n    }\\n  }\\n  attr {\\n    key: &quot;shape&quot;\\n    value {\\n      shape {\\n        dim {\\n          size: 784\\n        }\\n        dim {\\n          size: 10\\n        }\\n      }\\n    }\\n  }\\n  attr {\\n    key: &quot;shared_name&quot;\\n    value {\\n      s: &quot;&quot;\\n    }\\n  }\\n}\\nnode {\\n  name: &quot;distributor/W/Assign&quot;\\n  op: &quot;Assign&quot;\\n  input: &quot;distributor/W&quot;\\n  input: &quot;distributor/zeros&quot;\\n  attr {\\n    key: &quot;T&quot;\\n    value {\\n      type: DT_FLOAT\\n    }\\n  }\\n  attr {\\n    key: &quot;_class&quot;\\n    value {\\n      list {\\n        s: &quot;loc:@distributor/W&quot;\\n      }\\n    }\\n  }\\n  attr {\\n    key: &quot;use_locking&quot;\\n    value {\\n      b: true\\n    }\\n  }\\n  attr {\\n    key: &quot;validate_shape&quot;\\n    value {\\n      b: true\\n    }\\n  }\\n}\\nnode {\\n  name: &quot;distributor/W/read&quot;\\n  op: &quot;Identity&quot;\\n  input: &quot;distributor/W&quot;\\n  attr {\\n    key: &quot;T&quot;\\n    value {\\n      type: DT_FLOAT\\n    }\\n  }\\n  attr {\\n    key: &quot;_class&quot;\\n    value {\\n      list {\\n        s: &quot;loc:@distributor/W&quot;\\n      }\\n    }\\n  }\\n}\\nnode {\\n  name: &quot;distributor/zeros_1&quot;\\n  op: &quot;Const&quot;\\n  attr {\\n    key: &quot;dtype&quot;\\n    value {\\n      type: DT_FLOAT\\n    }\\n  }\\n  attr {\\n    key: &quot;value&quot;\\n    value {\\n      tensor {\\n        dtype: DT_FLOAT\\n        tensor_shape {\\n          dim {\\n            size: 1\\n          }\\n          dim {\\n            size: 10\\n          }\\n        }\\n        float_val: 0.0\\n      }\\n    }\\n  }\\n}\\nnode {\\n  name: &quot;distributor/b&quot;\\n  op: &quot;VariableV2&quot;\\n  attr {\\n    key: &quot;container&quot;\\n    value {\\n      s: &quot;&quot;\\n    }\\n  }\\n  attr {\\n    key: &quot;dtype&quot;\\n    value {\\n      type: DT_FLOAT\\n    }\\n  }\\n  attr {\\n    key: &quot;shape&quot;\\n    value {\\n      shape {\\n        dim {\\n          size: 1\\n        }\\n        dim {\\n          size: 10\\n        }\\n      }\\n    }\\n  }\\n  attr {\\n    key: &quot;shared_name&quot;\\n    value {\\n      s: &quot;&quot;\\n    }\\n  }\\n}\\nnode {\\n  name: &quot;distributor/b/Assign&quot;\\n  op: &quot;Assign&quot;\\n  input: &quot;distributor/b&quot;\\n  input: &quot;distributor/zeros_1&quot;\\n  attr {\\n    key: &quot;T&quot;\\n    value {\\n      type: DT_FLOAT\\n    }\\n  }\\n  attr {\\n    key: &quot;_class&quot;\\n    value {\\n      list {\\n        s: &quot;loc:@distributor/b&quot;\\n      }\\n    }\\n  }\\n  attr {\\n    key: &quot;use_locking&quot;\\n    value {\\n      b: true\\n    }\\n  }\\n  attr {\\n    key: &quot;validate_shape&quot;\\n    value {\\n      b: true\\n    }\\n  }\\n}\\nnode {\\n  name: &quot;distributor/b/read&quot;\\n  op: &quot;Identity&quot;\\n  input: &quot;distributor/b&quot;\\n  attr {\\n    key: &quot;T&quot;\\n    value {\\n      type: DT_FLOAT\\n    }\\n  }\\n  attr {\\n    key: &quot;_class&quot;\\n    value {\\n      list {\\n        s: &quot;loc:@distributor/b&quot;\\n      }\\n    }\\n  }\\n}\\nnode {\\n  name: &quot;distributor/X&quot;\\n  op: &quot;Placeholder&quot;\\n  attr {\\n    key: &quot;dtype&quot;\\n    value {\\n      type: DT_FLOAT\\n    }\\n  }\\n  attr {\\n    key: &quot;shape&quot;\\n    value {\\n      shape {\\n        dim {\\n          size: 32\\n        }\\n        dim {\\n          size: 784\\n        }\\n      }\\n    }\\n  }\\n}\\nnode {\\n  name: &quot;distributor/y&quot;\\n  op: &quot;Placeholder&quot;\\n  attr {\\n    key: &quot;dtype&quot;\\n    value {\\n      type: DT_INT16\\n    }\\n  }\\n  attr {\\n    key: &quot;shape&quot;\\n    value {\\n      shape {\\n        dim {\\n          size: 32\\n        }\\n        dim {\\n          size: 10\\n        }\\n      }\\n    }\\n  }\\n}\\nnode {\\n  name: &quot;model1/data1/Identity&quot;\\n  op: &quot;Identity&quot;\\n  input: &quot;distributor/X&quot;\\n  attr {\\n    key: &quot;T&quot;\\n    value {\\n      type: DT_FLOAT\\n    }\\n  }\\n}\\nnode {\\n  name: &quot;model1/data1/Identity_1&quot;\\n  op: &quot;Identity&quot;\\n  input: &quot;distributor/y&quot;\\n  attr {\\n    key: &quot;T&quot;\\n    value {\\n      type: DT_INT16\\n    }\\n  }\\n}\\nnode {\\n  name: &quot;model1/parameters1/Identity&quot;\\n  op: &quot;Identity&quot;\\n  input: &quot;distributor/b/read&quot;\\n  attr {\\n    key: &quot;T&quot;\\n    value {\\n      type: DT_FLOAT\\n    }\\n  }\\n}\\nnode {\\n  name: &quot;model1/parameters1/Identity_1&quot;\\n  op: &quot;Identity&quot;\\n  input: &quot;distributor/W/read&quot;\\n  attr {\\n    key: &quot;T&quot;\\n    value {\\n      type: DT_FLOAT\\n    }\\n  }\\n}\\nnode {\\n  name: &quot;model1/loss1/MatMul&quot;\\n  op: &quot;MatMul&quot;\\n  input: &quot;model1/data1/Identity&quot;\\n  input: &quot;model1/parameters1/Identity_1&quot;\\n  attr {\\n    key: &quot;T&quot;\\n    value {\\n      type: DT_FLOAT\\n    }\\n  }\\n  attr {\\n    key: &quot;transpose_a&quot;\\n    value {\\n      b: false\\n    }\\n  }\\n  attr {\\n    key: &quot;transpose_b&quot;\\n    value {\\n      b: false\\n    }\\n  }\\n}\\nnode {\\n  name: &quot;model1/loss1/add&quot;\\n  op: &quot;Add&quot;\\n  input: &quot;model1/loss1/MatMul&quot;\\n  input: &quot;model1/parameters1/Identity&quot;\\n  attr {\\n    key: &quot;T&quot;\\n    value {\\n      type: DT_FLOAT\\n    }\\n  }\\n}\\nnode {\\n  name: &quot;model1/loss1/Cast&quot;\\n  op: &quot;Cast&quot;\\n  input: &quot;model1/data1/Identity_1&quot;\\n  attr {\\n    key: &quot;DstT&quot;\\n    value {\\n      type: DT_FLOAT\\n    }\\n  }\\n  attr {\\n    key: &quot;SrcT&quot;\\n    value {\\n      type: DT_INT16\\n    }\\n  }\\n}\\nnode {\\n  name: &quot;model1/loss1/Rank&quot;\\n  op: &quot;Const&quot;\\n  attr {\\n    key: &quot;dtype&quot;\\n    value {\\n      type: DT_INT32\\n    }\\n  }\\n  attr {\\n    key: &quot;value&quot;\\n    value {\\n      tensor {\\n        dtype: DT_INT32\\n        tensor_shape {\\n        }\\n        int_val: 2\\n      }\\n    }\\n  }\\n}\\nnode {\\n  name: &quot;model1/loss1/Shape&quot;\\n  op: &quot;Const&quot;\\n  attr {\\n    key: &quot;dtype&quot;\\n    value {\\n      type: DT_INT32\\n    }\\n  }\\n  attr {\\n    key: &quot;value&quot;\\n    value {\\n      tensor {\\n        dtype: DT_INT32\\n        tensor_shape {\\n          dim {\\n            size: 2\\n          }\\n        }\\n        tensor_content: &quot; \\\\000\\\\000\\\\000\\\\n\\\\000\\\\000\\\\000&quot;\\n      }\\n    }\\n  }\\n}\\nnode {\\n  name: &quot;model1/loss1/Rank_1&quot;\\n  op: &quot;Const&quot;\\n  attr {\\n    key: &quot;dtype&quot;\\n    value {\\n      type: DT_INT32\\n    }\\n  }\\n  attr {\\n    key: &quot;value&quot;\\n    value {\\n      tensor {\\n        dtype: DT_INT32\\n        tensor_shape {\\n        }\\n        int_val: 2\\n      }\\n    }\\n  }\\n}\\nnode {\\n  name: &quot;model1/loss1/Shape_1&quot;\\n  op: &quot;Const&quot;\\n  attr {\\n    key: &quot;dtype&quot;\\n    value {\\n      type: DT_INT32\\n    }\\n  }\\n  attr {\\n    key: &quot;value&quot;\\n    value {\\n      tensor {\\n        dtype: DT_INT32\\n        tensor_shape {\\n          dim {\\n            size: 2\\n          }\\n        }\\n        tensor_content: &quot; \\\\000\\\\000\\\\000\\\\n\\\\000\\\\000\\\\000&quot;\\n      }\\n    }\\n  }\\n}\\nnode {\\n  name: &quot;model1/loss1/Sub/y&quot;\\n  op: &quot;Const&quot;\\n  attr {\\n    key: &quot;dtype&quot;\\n    value {\\n      type: DT_INT32\\n    }\\n  }\\n  attr {\\n    key: &quot;value&quot;\\n    value {\\n      tensor {\\n        dtype: DT_INT32\\n        tensor_shape {\\n        }\\n        int_val: 1\\n      }\\n    }\\n  }\\n}\\nnode {\\n  name: &quot;model1/loss1/Sub&quot;\\n  op: &quot;Sub&quot;\\n  input: &quot;model1/loss1/Rank_1&quot;\\n  input: &quot;model1/loss1/Sub/y&quot;\\n  attr {\\n    key: &quot;T&quot;\\n    value {\\n      type: DT_INT32\\n    }\\n  }\\n}\\nnode {\\n  name: &quot;model1/loss1/Slice/begin&quot;\\n  op: &quot;Pack&quot;\\n  input: &quot;model1/loss1/Sub&quot;\\n  attr {\\n    key: &quot;N&quot;\\n    value {\\n      i: 1\\n    }\\n  }\\n  attr {\\n    key: &quot;T&quot;\\n    value {\\n      type: DT_INT32\\n    }\\n  }\\n  attr {\\n    key: &quot;axis&quot;\\n    value {\\n      i: 0\\n    }\\n  }\\n}\\nnode {\\n  name: &quot;model1/loss1/Slice/size&quot;\\n  op: &quot;Const&quot;\\n  attr {\\n    key: &quot;dtype&quot;\\n    value {\\n      type: DT_INT32\\n    }\\n  }\\n  attr {\\n    key: &quot;value&quot;\\n    value {\\n      tensor {\\n        dtype: DT_INT32\\n        tensor_shape {\\n          dim {\\n            size: 1\\n          }\\n        }\\n        int_val: 1\\n      }\\n    }\\n  }\\n}\\nnode {\\n  name: &quot;model1/loss1/Slice&quot;\\n  op: &quot;Slice&quot;\\n  input: &quot;model1/loss1/Shape_1&quot;\\n  input: &quot;model1/loss1/Slice/begin&quot;\\n  input: &quot;model1/loss1/Slice/size&quot;\\n  attr {\\n    key: &quot;Index&quot;\\n    value {\\n      type: DT_INT32\\n    }\\n  }\\n  attr {\\n    key: &quot;T&quot;\\n    value {\\n      type: DT_INT32\\n    }\\n  }\\n}\\nnode {\\n  name: &quot;model1/loss1/concat/values_0&quot;\\n  op: &quot;Const&quot;\\n  attr {\\n    key: &quot;dtype&quot;\\n    value {\\n      type: DT_INT32\\n    }\\n  }\\n  attr {\\n    key: &quot;value&quot;\\n    value {\\n      tensor {\\n        dtype: DT_INT32\\n        tensor_shape {\\n          dim {\\n            size: 1\\n          }\\n        }\\n        int_val: -1\\n      }\\n    }\\n  }\\n}\\nnode {\\n  name: &quot;model1/loss1/concat/axis&quot;\\n  op: &quot;Const&quot;\\n  attr {\\n    key: &quot;dtype&quot;\\n    value {\\n      type: DT_INT32\\n    }\\n  }\\n  attr {\\n    key: &quot;value&quot;\\n    value {\\n      tensor {\\n        dtype: DT_INT32\\n        tensor_shape {\\n        }\\n        int_val: 0\\n      }\\n    }\\n  }\\n}\\nnode {\\n  name: &quot;model1/loss1/concat&quot;\\n  op: &quot;ConcatV2&quot;\\n  input: &quot;model1/loss1/concat/values_0&quot;\\n  input: &quot;model1/loss1/Slice&quot;\\n  input: &quot;model1/loss1/concat/axis&quot;\\n  attr {\\n    key: &quot;N&quot;\\n    value {\\n      i: 2\\n    }\\n  }\\n  attr {\\n    key: &quot;T&quot;\\n    value {\\n      type: DT_INT32\\n    }\\n  }\\n  attr {\\n    key: &quot;Tidx&quot;\\n    value {\\n      type: DT_INT32\\n    }\\n  }\\n}\\nnode {\\n  name: &quot;model1/loss1/Reshape&quot;\\n  op: &quot;Reshape&quot;\\n  input: &quot;model1/loss1/add&quot;\\n  input: &quot;model1/loss1/concat&quot;\\n  attr {\\n    key: &quot;T&quot;\\n    value {\\n      type: DT_FLOAT\\n    }\\n  }\\n  attr {\\n    key: &quot;Tshape&quot;\\n    value {\\n      type: DT_INT32\\n    }\\n  }\\n}\\nnode {\\n  name: &quot;model1/loss1/Rank_2&quot;\\n  op: &quot;Const&quot;\\n  attr {\\n    key: &quot;dtype&quot;\\n    value {\\n      type: DT_INT32\\n    }\\n  }\\n  attr {\\n    key: &quot;value&quot;\\n    value {\\n      tensor {\\n        dtype: DT_INT32\\n        tensor_shape {\\n        }\\n        int_val: 2\\n      }\\n    }\\n  }\\n}\\nnode {\\n  name: &quot;model1/loss1/Shape_2&quot;\\n  op: &quot;Const&quot;\\n  attr {\\n    key: &quot;dtype&quot;\\n    value {\\n      type: DT_INT32\\n    }\\n  }\\n  attr {\\n    key: &quot;value&quot;\\n    value {\\n      tensor {\\n        dtype: DT_INT32\\n        tensor_shape {\\n          dim {\\n            size: 2\\n          }\\n        }\\n        tensor_content: &quot; \\\\000\\\\000\\\\000\\\\n\\\\000\\\\000\\\\000&quot;\\n      }\\n    }\\n  }\\n}\\nnode {\\n  name: &quot;model1/loss1/Sub_1/y&quot;\\n  op: &quot;Const&quot;\\n  attr {\\n    key: &quot;dtype&quot;\\n    value {\\n      type: DT_INT32\\n    }\\n  }\\n  attr {\\n    key: &quot;value&quot;\\n    value {\\n      tensor {\\n        dtype: DT_INT32\\n        tensor_shape {\\n        }\\n        int_val: 1\\n      }\\n    }\\n  }\\n}\\nnode {\\n  name: &quot;model1/loss1/Sub_1&quot;\\n  op: &quot;Sub&quot;\\n  input: &quot;model1/loss1/Rank_2&quot;\\n  input: &quot;model1/loss1/Sub_1/y&quot;\\n  attr {\\n    key: &quot;T&quot;\\n    value {\\n      type: DT_INT32\\n    }\\n  }\\n}\\nnode {\\n  name: &quot;model1/loss1/Slice_1/begin&quot;\\n  op: &quot;Pack&quot;\\n  input: &quot;model1/loss1/Sub_1&quot;\\n  attr {\\n    key: &quot;N&quot;\\n    value {\\n      i: 1\\n    }\\n  }\\n  attr {\\n    key: &quot;T&quot;\\n    value {\\n      type: DT_INT32\\n    }\\n  }\\n  attr {\\n    key: &quot;axis&quot;\\n    value {\\n      i: 0\\n    }\\n  }\\n}\\nnode {\\n  name: &quot;model1/loss1/Slice_1/size&quot;\\n  op: &quot;Const&quot;\\n  attr {\\n    key: &quot;dtype&quot;\\n    value {\\n      type: DT_INT32\\n    }\\n  }\\n  attr {\\n    key: &quot;value&quot;\\n    value {\\n      tensor {\\n        dtype: DT_INT32\\n        tensor_shape {\\n          dim {\\n            size: 1\\n          }\\n        }\\n        int_val: 1\\n      }\\n    }\\n  }\\n}\\nnode {\\n  name: &quot;model1/loss1/Slice_1&quot;\\n  op: &quot;Slice&quot;\\n  input: &quot;model1/loss1/Shape_2&quot;\\n  input: &quot;model1/loss1/Slice_1/begin&quot;\\n  input: &quot;model1/loss1/Slice_1/size&quot;\\n  attr {\\n    key: &quot;Index&quot;\\n    value {\\n      type: DT_INT32\\n    }\\n  }\\n  attr {\\n    key: &quot;T&quot;\\n    value {\\n      type: DT_INT32\\n    }\\n  }\\n}\\nnode {\\n  name: &quot;model1/loss1/concat_1/values_0&quot;\\n  op: &quot;Const&quot;\\n  attr {\\n    key: &quot;dtype&quot;\\n    value {\\n      type: DT_INT32\\n    }\\n  }\\n  attr {\\n    key: &quot;value&quot;\\n    value {\\n      tensor {\\n        dtype: DT_INT32\\n        tensor_shape {\\n          dim {\\n            size: 1\\n          }\\n        }\\n        int_val: -1\\n      }\\n    }\\n  }\\n}\\nnode {\\n  name: &quot;model1/loss1/concat_1/axis&quot;\\n  op: &quot;Const&quot;\\n  attr {\\n    key: &quot;dtype&quot;\\n    value {\\n      type: DT_INT32\\n    }\\n  }\\n  attr {\\n    key: &quot;value&quot;\\n    value {\\n      tensor {\\n        dtype: DT_INT32\\n        tensor_shape {\\n        }\\n        int_val: 0\\n      }\\n    }\\n  }\\n}\\nnode {\\n  name: &quot;model1/loss1/concat_1&quot;\\n  op: &quot;ConcatV2&quot;\\n  input: &quot;model1/loss1/concat_1/values_0&quot;\\n  input: &quot;model1/loss1/Slice_1&quot;\\n  input: &quot;model1/loss1/concat_1/axis&quot;\\n  attr {\\n    key: &quot;N&quot;\\n    value {\\n      i: 2\\n    }\\n  }\\n  attr {\\n    key: &quot;T&quot;\\n    value {\\n      type: DT_INT32\\n    }\\n  }\\n  attr {\\n    key: &quot;Tidx&quot;\\n    value {\\n      type: DT_INT32\\n    }\\n  }\\n}\\nnode {\\n  name: &quot;model1/loss1/Reshape_1&quot;\\n  op: &quot;Reshape&quot;\\n  input: &quot;model1/loss1/Cast&quot;\\n  input: &quot;model1/loss1/concat_1&quot;\\n  attr {\\n    key: &quot;T&quot;\\n    value {\\n      type: DT_FLOAT\\n    }\\n  }\\n  attr {\\n    key: &quot;Tshape&quot;\\n    value {\\n      type: DT_INT32\\n    }\\n  }\\n}\\nnode {\\n  name: &quot;model1/loss1/loss&quot;\\n  op: &quot;SoftmaxCrossEntropyWithLogits&quot;\\n  input: &quot;model1/loss1/Reshape&quot;\\n  input: &quot;model1/loss1/Reshape_1&quot;\\n  attr {\\n    key: &quot;T&quot;\\n    value {\\n      type: DT_FLOAT\\n    }\\n  }\\n}\\nnode {\\n  name: &quot;model1/loss1/Sub_2/y&quot;\\n  op: &quot;Const&quot;\\n  attr {\\n    key: &quot;dtype&quot;\\n    value {\\n      type: DT_INT32\\n    }\\n  }\\n  attr {\\n    key: &quot;value&quot;\\n    value {\\n      tensor {\\n        dtype: DT_INT32\\n        tensor_shape {\\n        }\\n        int_val: 1\\n      }\\n    }\\n  }\\n}\\nnode {\\n  name: &quot;model1/loss1/Sub_2&quot;\\n  op: &quot;Sub&quot;\\n  input: &quot;model1/loss1/Rank&quot;\\n  input: &quot;model1/loss1/Sub_2/y&quot;\\n  attr {\\n    key: &quot;T&quot;\\n    value {\\n      type: DT_INT32\\n    }\\n  }\\n}\\nnode {\\n  name: &quot;model1/loss1/Slice_2/begin&quot;\\n  op: &quot;Const&quot;\\n  attr {\\n    key: &quot;dtype&quot;\\n    value {\\n      type: DT_INT32\\n    }\\n  }\\n  attr {\\n    key: &quot;value&quot;\\n    value {\\n      tensor {\\n        dtype: DT_INT32\\n        tensor_shape {\\n          dim {\\n            size: 1\\n          }\\n        }\\n        int_val: 0\\n      }\\n    }\\n  }\\n}\\nnode {\\n  name: &quot;model1/loss1/Slice_2/size&quot;\\n  op: &quot;Pack&quot;\\n  input: &quot;model1/loss1/Sub_2&quot;\\n  attr {\\n    key: &quot;N&quot;\\n    value {\\n      i: 1\\n    }\\n  }\\n  attr {\\n    key: &quot;T&quot;\\n    value {\\n      type: DT_INT32\\n    }\\n  }\\n  attr {\\n    key: &quot;axis&quot;\\n    value {\\n      i: 0\\n    }\\n  }\\n}\\nnode {\\n  name: &quot;model1/loss1/Slice_2&quot;\\n  op: &quot;Slice&quot;\\n  input: &quot;model1/loss1/Shape&quot;\\n  input: &quot;model1/loss1/Slice_2/begin&quot;\\n  input: &quot;model1/loss1/Slice_2/size&quot;\\n  attr {\\n    key: &quot;Index&quot;\\n    value {\\n      type: DT_INT32\\n    }\\n  }\\n  attr {\\n    key: &quot;T&quot;\\n    value {\\n      type: DT_INT32\\n    }\\n  }\\n}\\nnode {\\n  name: &quot;model1/loss1/Reshape_2&quot;\\n  op: &quot;Reshape&quot;\\n  input: &quot;model1/loss1/loss&quot;\\n  input: &quot;model1/loss1/Slice_2&quot;\\n  attr {\\n    key: &quot;T&quot;\\n    value {\\n      type: DT_FLOAT\\n    }\\n  }\\n  attr {\\n    key: &quot;Tshape&quot;\\n    value {\\n      type: DT_INT32\\n    }\\n  }\\n}\\nnode {\\n  name: &quot;model1/loss1/Const&quot;\\n  op: &quot;Const&quot;\\n  attr {\\n    key: &quot;dtype&quot;\\n    value {\\n      type: DT_INT32\\n    }\\n  }\\n  attr {\\n    key: &quot;value&quot;\\n    value {\\n      tensor {\\n        dtype: DT_INT32\\n        tensor_shape {\\n          dim {\\n            size: 1\\n          }\\n        }\\n        int_val: 0\\n      }\\n    }\\n  }\\n}\\nnode {\\n  name: &quot;model1/loss1/Mean&quot;\\n  op: &quot;Mean&quot;\\n  input: &quot;model1/loss1/Reshape_2&quot;\\n  input: &quot;model1/loss1/Const&quot;\\n  attr {\\n    key: &quot;T&quot;\\n    value {\\n      type: DT_FLOAT\\n    }\\n  }\\n  attr {\\n    key: &quot;Tidx&quot;\\n    value {\\n      type: DT_INT32\\n    }\\n  }\\n  attr {\\n    key: &quot;keep_dims&quot;\\n    value {\\n      b: false\\n    }\\n  }\\n}\\nnode {\\n  name: &quot;model2/data2/Identity&quot;\\n  op: &quot;Identity&quot;\\n  input: &quot;distributor/X&quot;\\n  attr {\\n    key: &quot;T&quot;\\n    value {\\n      type: DT_FLOAT\\n    }\\n  }\\n}\\nnode {\\n  name: &quot;model2/data2/Identity_1&quot;\\n  op: &quot;Identity&quot;\\n  input: &quot;distributor/y&quot;\\n  attr {\\n    key: &quot;T&quot;\\n    value {\\n      type: DT_INT16\\n    }\\n  }\\n}\\nnode {\\n  name: &quot;model2/parameters2/Identity&quot;\\n  op: &quot;Identity&quot;\\n  input: &quot;distributor/b/read&quot;\\n  attr {\\n    key: &quot;T&quot;\\n    value {\\n      type: DT_FLOAT\\n    }\\n  }\\n}\\nnode {\\n  name: &quot;model2/parameters2/Identity_1&quot;\\n  op: &quot;Identity&quot;\\n  input: &quot;distributor/W/read&quot;\\n  attr {\\n    key: &quot;T&quot;\\n    value {\\n      type: DT_FLOAT\\n    }\\n  }\\n}\\nnode {\\n  name: &quot;model2/loss2/MatMul&quot;\\n  op: &quot;MatMul&quot;\\n  input: &quot;model2/data2/Identity&quot;\\n  input: &quot;model2/parameters2/Identity_1&quot;\\n  attr {\\n    key: &quot;T&quot;\\n    value {\\n      type: DT_FLOAT\\n    }\\n  }\\n  attr {\\n    key: &quot;transpose_a&quot;\\n    value {\\n      b: false\\n    }\\n  }\\n  attr {\\n    key: &quot;transpose_b&quot;\\n    value {\\n      b: false\\n    }\\n  }\\n}\\nnode {\\n  name: &quot;model2/loss2/add&quot;\\n  op: &quot;Add&quot;\\n  input: &quot;model2/loss2/MatMul&quot;\\n  input: &quot;model2/parameters2/Identity&quot;\\n  attr {\\n    key: &quot;T&quot;\\n    value {\\n      type: DT_FLOAT\\n    }\\n  }\\n}\\nnode {\\n  name: &quot;model2/loss2/Cast&quot;\\n  op: &quot;Cast&quot;\\n  input: &quot;model2/data2/Identity_1&quot;\\n  attr {\\n    key: &quot;DstT&quot;\\n    value {\\n      type: DT_FLOAT\\n    }\\n  }\\n  attr {\\n    key: &quot;SrcT&quot;\\n    value {\\n      type: DT_INT16\\n    }\\n  }\\n}\\nnode {\\n  name: &quot;model2/loss2/Rank&quot;\\n  op: &quot;Const&quot;\\n  attr {\\n    key: &quot;dtype&quot;\\n    value {\\n      type: DT_INT32\\n    }\\n  }\\n  attr {\\n    key: &quot;value&quot;\\n    value {\\n      tensor {\\n        dtype: DT_INT32\\n        tensor_shape {\\n        }\\n        int_val: 2\\n      }\\n    }\\n  }\\n}\\nnode {\\n  name: &quot;model2/loss2/Shape&quot;\\n  op: &quot;Const&quot;\\n  attr {\\n    key: &quot;dtype&quot;\\n    value {\\n      type: DT_INT32\\n    }\\n  }\\n  attr {\\n    key: &quot;value&quot;\\n    value {\\n      tensor {\\n        dtype: DT_INT32\\n        tensor_shape {\\n          dim {\\n            size: 2\\n          }\\n        }\\n        tensor_content: &quot; \\\\000\\\\000\\\\000\\\\n\\\\000\\\\000\\\\000&quot;\\n      }\\n    }\\n  }\\n}\\nnode {\\n  name: &quot;model2/loss2/Rank_1&quot;\\n  op: &quot;Const&quot;\\n  attr {\\n    key: &quot;dtype&quot;\\n    value {\\n      type: DT_INT32\\n    }\\n  }\\n  attr {\\n    key: &quot;value&quot;\\n    value {\\n      tensor {\\n        dtype: DT_INT32\\n        tensor_shape {\\n        }\\n        int_val: 2\\n      }\\n    }\\n  }\\n}\\nnode {\\n  name: &quot;model2/loss2/Shape_1&quot;\\n  op: &quot;Const&quot;\\n  attr {\\n    key: &quot;dtype&quot;\\n    value {\\n      type: DT_INT32\\n    }\\n  }\\n  attr {\\n    key: &quot;value&quot;\\n    value {\\n      tensor {\\n        dtype: DT_INT32\\n        tensor_shape {\\n          dim {\\n            size: 2\\n          }\\n        }\\n        tensor_content: &quot; \\\\000\\\\000\\\\000\\\\n\\\\000\\\\000\\\\000&quot;\\n      }\\n    }\\n  }\\n}\\nnode {\\n  name: &quot;model2/loss2/Sub/y&quot;\\n  op: &quot;Const&quot;\\n  attr {\\n    key: &quot;dtype&quot;\\n    value {\\n      type: DT_INT32\\n    }\\n  }\\n  attr {\\n    key: &quot;value&quot;\\n    value {\\n      tensor {\\n        dtype: DT_INT32\\n        tensor_shape {\\n        }\\n        int_val: 1\\n      }\\n    }\\n  }\\n}\\nnode {\\n  name: &quot;model2/loss2/Sub&quot;\\n  op: &quot;Sub&quot;\\n  input: &quot;model2/loss2/Rank_1&quot;\\n  input: &quot;model2/loss2/Sub/y&quot;\\n  attr {\\n    key: &quot;T&quot;\\n    value {\\n      type: DT_INT32\\n    }\\n  }\\n}\\nnode {\\n  name: &quot;model2/loss2/Slice/begin&quot;\\n  op: &quot;Pack&quot;\\n  input: &quot;model2/loss2/Sub&quot;\\n  attr {\\n    key: &quot;N&quot;\\n    value {\\n      i: 1\\n    }\\n  }\\n  attr {\\n    key: &quot;T&quot;\\n    value {\\n      type: DT_INT32\\n    }\\n  }\\n  attr {\\n    key: &quot;axis&quot;\\n    value {\\n      i: 0\\n    }\\n  }\\n}\\nnode {\\n  name: &quot;model2/loss2/Slice/size&quot;\\n  op: &quot;Const&quot;\\n  attr {\\n    key: &quot;dtype&quot;\\n    value {\\n      type: DT_INT32\\n    }\\n  }\\n  attr {\\n    key: &quot;value&quot;\\n    value {\\n      tensor {\\n        dtype: DT_INT32\\n        tensor_shape {\\n          dim {\\n            size: 1\\n          }\\n        }\\n        int_val: 1\\n      }\\n    }\\n  }\\n}\\nnode {\\n  name: &quot;model2/loss2/Slice&quot;\\n  op: &quot;Slice&quot;\\n  input: &quot;model2/loss2/Shape_1&quot;\\n  input: &quot;model2/loss2/Slice/begin&quot;\\n  input: &quot;model2/loss2/Slice/size&quot;\\n  attr {\\n    key: &quot;Index&quot;\\n    value {\\n      type: DT_INT32\\n    }\\n  }\\n  attr {\\n    key: &quot;T&quot;\\n    value {\\n      type: DT_INT32\\n    }\\n  }\\n}\\nnode {\\n  name: &quot;model2/loss2/concat/values_0&quot;\\n  op: &quot;Const&quot;\\n  attr {\\n    key: &quot;dtype&quot;\\n    value {\\n      type: DT_INT32\\n    }\\n  }\\n  attr {\\n    key: &quot;value&quot;\\n    value {\\n      tensor {\\n        dtype: DT_INT32\\n        tensor_shape {\\n          dim {\\n            size: 1\\n          }\\n        }\\n        int_val: -1\\n      }\\n    }\\n  }\\n}\\nnode {\\n  name: &quot;model2/loss2/concat/axis&quot;\\n  op: &quot;Const&quot;\\n  attr {\\n    key: &quot;dtype&quot;\\n    value {\\n      type: DT_INT32\\n    }\\n  }\\n  attr {\\n    key: &quot;value&quot;\\n    value {\\n      tensor {\\n        dtype: DT_INT32\\n        tensor_shape {\\n        }\\n        int_val: 0\\n      }\\n    }\\n  }\\n}\\nnode {\\n  name: &quot;model2/loss2/concat&quot;\\n  op: &quot;ConcatV2&quot;\\n  input: &quot;model2/loss2/concat/values_0&quot;\\n  input: &quot;model2/loss2/Slice&quot;\\n  input: &quot;model2/loss2/concat/axis&quot;\\n  attr {\\n    key: &quot;N&quot;\\n    value {\\n      i: 2\\n    }\\n  }\\n  attr {\\n    key: &quot;T&quot;\\n    value {\\n      type: DT_INT32\\n    }\\n  }\\n  attr {\\n    key: &quot;Tidx&quot;\\n    value {\\n      type: DT_INT32\\n    }\\n  }\\n}\\nnode {\\n  name: &quot;model2/loss2/Reshape&quot;\\n  op: &quot;Reshape&quot;\\n  input: &quot;model2/loss2/add&quot;\\n  input: &quot;model2/loss2/concat&quot;\\n  attr {\\n    key: &quot;T&quot;\\n    value {\\n      type: DT_FLOAT\\n    }\\n  }\\n  attr {\\n    key: &quot;Tshape&quot;\\n    value {\\n      type: DT_INT32\\n    }\\n  }\\n}\\nnode {\\n  name: &quot;model2/loss2/Rank_2&quot;\\n  op: &quot;Const&quot;\\n  attr {\\n    key: &quot;dtype&quot;\\n    value {\\n      type: DT_INT32\\n    }\\n  }\\n  attr {\\n    key: &quot;value&quot;\\n    value {\\n      tensor {\\n        dtype: DT_INT32\\n        tensor_shape {\\n        }\\n        int_val: 2\\n      }\\n    }\\n  }\\n}\\nnode {\\n  name: &quot;model2/loss2/Shape_2&quot;\\n  op: &quot;Const&quot;\\n  attr {\\n    key: &quot;dtype&quot;\\n    value {\\n      type: DT_INT32\\n    }\\n  }\\n  attr {\\n    key: &quot;value&quot;\\n    value {\\n      tensor {\\n        dtype: DT_INT32\\n        tensor_shape {\\n          dim {\\n            size: 2\\n          }\\n        }\\n        tensor_content: &quot; \\\\000\\\\000\\\\000\\\\n\\\\000\\\\000\\\\000&quot;\\n      }\\n    }\\n  }\\n}\\nnode {\\n  name: &quot;model2/loss2/Sub_1/y&quot;\\n  op: &quot;Const&quot;\\n  attr {\\n    key: &quot;dtype&quot;\\n    value {\\n      type: DT_INT32\\n    }\\n  }\\n  attr {\\n    key: &quot;value&quot;\\n    value {\\n      tensor {\\n        dtype: DT_INT32\\n        tensor_shape {\\n        }\\n        int_val: 1\\n      }\\n    }\\n  }\\n}\\nnode {\\n  name: &quot;model2/loss2/Sub_1&quot;\\n  op: &quot;Sub&quot;\\n  input: &quot;model2/loss2/Rank_2&quot;\\n  input: &quot;model2/loss2/Sub_1/y&quot;\\n  attr {\\n    key: &quot;T&quot;\\n    value {\\n      type: DT_INT32\\n    }\\n  }\\n}\\nnode {\\n  name: &quot;model2/loss2/Slice_1/begin&quot;\\n  op: &quot;Pack&quot;\\n  input: &quot;model2/loss2/Sub_1&quot;\\n  attr {\\n    key: &quot;N&quot;\\n    value {\\n      i: 1\\n    }\\n  }\\n  attr {\\n    key: &quot;T&quot;\\n    value {\\n      type: DT_INT32\\n    }\\n  }\\n  attr {\\n    key: &quot;axis&quot;\\n    value {\\n      i: 0\\n    }\\n  }\\n}\\nnode {\\n  name: &quot;model2/loss2/Slice_1/size&quot;\\n  op: &quot;Const&quot;\\n  attr {\\n    key: &quot;dtype&quot;\\n    value {\\n      type: DT_INT32\\n    }\\n  }\\n  attr {\\n    key: &quot;value&quot;\\n    value {\\n      tensor {\\n        dtype: DT_INT32\\n        tensor_shape {\\n          dim {\\n            size: 1\\n          }\\n        }\\n        int_val: 1\\n      }\\n    }\\n  }\\n}\\nnode {\\n  name: &quot;model2/loss2/Slice_1&quot;\\n  op: &quot;Slice&quot;\\n  input: &quot;model2/loss2/Shape_2&quot;\\n  input: &quot;model2/loss2/Slice_1/begin&quot;\\n  input: &quot;model2/loss2/Slice_1/size&quot;\\n  attr {\\n    key: &quot;Index&quot;\\n    value {\\n      type: DT_INT32\\n    }\\n  }\\n  attr {\\n    key: &quot;T&quot;\\n    value {\\n      type: DT_INT32\\n    }\\n  }\\n}\\nnode {\\n  name: &quot;model2/loss2/concat_1/values_0&quot;\\n  op: &quot;Const&quot;\\n  attr {\\n    key: &quot;dtype&quot;\\n    value {\\n      type: DT_INT32\\n    }\\n  }\\n  attr {\\n    key: &quot;value&quot;\\n    value {\\n      tensor {\\n        dtype: DT_INT32\\n        tensor_shape {\\n          dim {\\n            size: 1\\n          }\\n        }\\n        int_val: -1\\n      }\\n    }\\n  }\\n}\\nnode {\\n  name: &quot;model2/loss2/concat_1/axis&quot;\\n  op: &quot;Const&quot;\\n  attr {\\n    key: &quot;dtype&quot;\\n    value {\\n      type: DT_INT32\\n    }\\n  }\\n  attr {\\n    key: &quot;value&quot;\\n    value {\\n      tensor {\\n        dtype: DT_INT32\\n        tensor_shape {\\n        }\\n        int_val: 0\\n      }\\n    }\\n  }\\n}\\nnode {\\n  name: &quot;model2/loss2/concat_1&quot;\\n  op: &quot;ConcatV2&quot;\\n  input: &quot;model2/loss2/concat_1/values_0&quot;\\n  input: &quot;model2/loss2/Slice_1&quot;\\n  input: &quot;model2/loss2/concat_1/axis&quot;\\n  attr {\\n    key: &quot;N&quot;\\n    value {\\n      i: 2\\n    }\\n  }\\n  attr {\\n    key: &quot;T&quot;\\n    value {\\n      type: DT_INT32\\n    }\\n  }\\n  attr {\\n    key: &quot;Tidx&quot;\\n    value {\\n      type: DT_INT32\\n    }\\n  }\\n}\\nnode {\\n  name: &quot;model2/loss2/Reshape_1&quot;\\n  op: &quot;Reshape&quot;\\n  input: &quot;model2/loss2/Cast&quot;\\n  input: &quot;model2/loss2/concat_1&quot;\\n  attr {\\n    key: &quot;T&quot;\\n    value {\\n      type: DT_FLOAT\\n    }\\n  }\\n  attr {\\n    key: &quot;Tshape&quot;\\n    value {\\n      type: DT_INT32\\n    }\\n  }\\n}\\nnode {\\n  name: &quot;model2/loss2/loss&quot;\\n  op: &quot;SoftmaxCrossEntropyWithLogits&quot;\\n  input: &quot;model2/loss2/Reshape&quot;\\n  input: &quot;model2/loss2/Reshape_1&quot;\\n  attr {\\n    key: &quot;T&quot;\\n    value {\\n      type: DT_FLOAT\\n    }\\n  }\\n}\\nnode {\\n  name: &quot;model2/loss2/Sub_2/y&quot;\\n  op: &quot;Const&quot;\\n  attr {\\n    key: &quot;dtype&quot;\\n    value {\\n      type: DT_INT32\\n    }\\n  }\\n  attr {\\n    key: &quot;value&quot;\\n    value {\\n      tensor {\\n        dtype: DT_INT32\\n        tensor_shape {\\n        }\\n        int_val: 1\\n      }\\n    }\\n  }\\n}\\nnode {\\n  name: &quot;model2/loss2/Sub_2&quot;\\n  op: &quot;Sub&quot;\\n  input: &quot;model2/loss2/Rank&quot;\\n  input: &quot;model2/loss2/Sub_2/y&quot;\\n  attr {\\n    key: &quot;T&quot;\\n    value {\\n      type: DT_INT32\\n    }\\n  }\\n}\\nnode {\\n  name: &quot;model2/loss2/Slice_2/begin&quot;\\n  op: &quot;Const&quot;\\n  attr {\\n    key: &quot;dtype&quot;\\n    value {\\n      type: DT_INT32\\n    }\\n  }\\n  attr {\\n    key: &quot;value&quot;\\n    value {\\n      tensor {\\n        dtype: DT_INT32\\n        tensor_shape {\\n          dim {\\n            size: 1\\n          }\\n        }\\n        int_val: 0\\n      }\\n    }\\n  }\\n}\\nnode {\\n  name: &quot;model2/loss2/Slice_2/size&quot;\\n  op: &quot;Pack&quot;\\n  input: &quot;model2/loss2/Sub_2&quot;\\n  attr {\\n    key: &quot;N&quot;\\n    value {\\n      i: 1\\n    }\\n  }\\n  attr {\\n    key: &quot;T&quot;\\n    value {\\n      type: DT_INT32\\n    }\\n  }\\n  attr {\\n    key: &quot;axis&quot;\\n    value {\\n      i: 0\\n    }\\n  }\\n}\\nnode {\\n  name: &quot;model2/loss2/Slice_2&quot;\\n  op: &quot;Slice&quot;\\n  input: &quot;model2/loss2/Shape&quot;\\n  input: &quot;model2/loss2/Slice_2/begin&quot;\\n  input: &quot;model2/loss2/Slice_2/size&quot;\\n  attr {\\n    key: &quot;Index&quot;\\n    value {\\n      type: DT_INT32\\n    }\\n  }\\n  attr {\\n    key: &quot;T&quot;\\n    value {\\n      type: DT_INT32\\n    }\\n  }\\n}\\nnode {\\n  name: &quot;model2/loss2/Reshape_2&quot;\\n  op: &quot;Reshape&quot;\\n  input: &quot;model2/loss2/loss&quot;\\n  input: &quot;model2/loss2/Slice_2&quot;\\n  attr {\\n    key: &quot;T&quot;\\n    value {\\n      type: DT_FLOAT\\n    }\\n  }\\n  attr {\\n    key: &quot;Tshape&quot;\\n    value {\\n      type: DT_INT32\\n    }\\n  }\\n}\\nnode {\\n  name: &quot;model2/loss2/Const&quot;\\n  op: &quot;Const&quot;\\n  attr {\\n    key: &quot;dtype&quot;\\n    value {\\n      type: DT_INT32\\n    }\\n  }\\n  attr {\\n    key: &quot;value&quot;\\n    value {\\n      tensor {\\n        dtype: DT_INT32\\n        tensor_shape {\\n          dim {\\n            size: 1\\n          }\\n        }\\n        int_val: 0\\n      }\\n    }\\n  }\\n}\\nnode {\\n  name: &quot;model2/loss2/Mean&quot;\\n  op: &quot;Mean&quot;\\n  input: &quot;model2/loss2/Reshape_2&quot;\\n  input: &quot;model2/loss2/Const&quot;\\n  attr {\\n    key: &quot;T&quot;\\n    value {\\n      type: DT_FLOAT\\n    }\\n  }\\n  attr {\\n    key: &quot;Tidx&quot;\\n    value {\\n      type: DT_INT32\\n    }\\n  }\\n  attr {\\n    key: &quot;keep_dims&quot;\\n    value {\\n      b: false\\n    }\\n  }\\n}\\n';\n",
       "          }\n",
       "        </script>\n",
       "        <link rel=&quot;import&quot; href=&quot;https://tensorboard.appspot.com/tf-graph-basic.build.html&quot; onload=load()>\n",
       "        <div style=&quot;height:600px&quot;>\n",
       "          <tf-graph-basic id=&quot;graph0.7701632988580561&quot;></tf-graph-basic>\n",
       "        </div>\n",
       "    \"></iframe>\n",
       "    "
      ],
      "text/plain": [
       "<IPython.core.display.HTML object>"
      ]
     },
     "metadata": {},
     "output_type": "display_data"
    }
   ],
   "source": [
    "tf.reset_default_graph()\n",
    "\n",
    "with tf.name_scope('distributor'):\n",
    "    W = tf.Variable(tf.zeros([784, 10]), dtype=tf.float32, name='W')\n",
    "    b = tf.Variable(tf.zeros([1, 10]), dtype=tf.float32, name='b')\n",
    "    X = tf.placeholder(shape=[32, 784], dtype=tf.float32, name='X')\n",
    "    y = tf.placeholder(shape=[32, 10], dtype=tf.int16, name='y')\n",
    "\n",
    "\n",
    "data = {'X': X, 'y': y}\n",
    "param = {'W': W, 'b': b}\n",
    "\n",
    "m1 = Model(1, data, param)\n",
    "m2 = Model(2, data, param)\n",
    "show_graph(tf.get_default_graph())"
   ]
  },
  {
   "cell_type": "code",
   "execution_count": 7,
   "metadata": {
    "collapsed": true
   },
   "outputs": [],
   "source": [
    "class Agent:\n",
    "    \n",
    "    BATCH_SIZE = 32\n",
    "    N_EPOCHS = 30\n",
    "    \n",
    "    def __init__(self):\n",
    "        with tf.name_scope('par'):\n",
    "            self.w = tf.Variable(tf.zeros([784, 10]), dtype=tf.float32, name='w')\n",
    "            self.b = tf.Variable(tf.zeros([1, 10]), dtype=tf.float32, name='b')\n",
    "        with tf.name_scope('data'):\n",
    "            self.X = tf.placeholder(shape=[BATCH_SIZE, 784], dtype=tf.float32, name='image')\n",
    "            self.Y = tf.placeholder(shape=[BATCH_SIZE, 10], dtype=tf.int16, name='label')\n",
    "        with tf.name_scope('loss'):\n",
    "            self.logits = tf.matmul(self.X, self.w) + self.b\n",
    "            self.entropy = tf.nn.softmax_cross_entropy_with_logits(logits=self.logits, labels=self.Y, name='loss')\n",
    "            self.loss = tf.reduce_mean(self.entropy)\n",
    "        with tf.name_scope('opt'):\n",
    "            self.optimizer = tf.train.GradientDescentOptimizer(0.01).minimize(self.loss)\n",
    "            \n",
    "    def train(self, mnist):\n",
    "        with tf.Session() as sess:\n",
    "            sess.run(tf.global_variables_initializer())\n",
    "            N_BATCHES = int(mnist.train.num_examples/BATCH_SIZE)\n",
    "            for i in range(N_EPOCHS):\n",
    "                total_loss = 0\n",
    "                for _ in range(N_BATCHES):\n",
    "                    X_batch, Y_batch = mnist.train.next_batch(BATCH_SIZE)\n",
    "                    _, loss_batch = sess.run([self.optimizer, self.loss], feed_dict={self.X: X_batch, self.Y: Y_batch})\n",
    "                    total_loss += loss_batch\n",
    "                print('Average loss epoch {0}: {1}'.format(i, total_loss/N_BATCHES))\n",
    "            print('Optimization Finished!')"
   ]
  },
  {
   "cell_type": "code",
   "execution_count": 8,
   "metadata": {
    "collapsed": true
   },
   "outputs": [],
   "source": [
    "a1 = Agent()\n",
    "a2 = Agent()"
   ]
  },
  {
   "cell_type": "code",
   "execution_count": 10,
   "metadata": {
    "collapsed": false
   },
   "outputs": [
    {
     "name": "stdout",
     "output_type": "stream",
     "text": [
      "Average loss epoch 0: 0.7912245929171792\n",
      "Average loss epoch 1: 0.4651583866828812\n",
      "Average loss epoch 2: 0.41057026798254675\n",
      "Average loss epoch 3: 0.38279259577827207\n",
      "Average loss epoch 4: 0.3659034872490466\n",
      "Average loss epoch 5: 0.35371557174291685\n",
      "Average loss epoch 6: 0.34420496931384137\n",
      "Average loss epoch 7: 0.3366953860447938\n",
      "Average loss epoch 8: 0.33073767690081257\n",
      "Average loss epoch 9: 0.32582427109607925\n",
      "Average loss epoch 10: 0.3213129277136155\n",
      "Average loss epoch 11: 0.31764159218014604\n",
      "Average loss epoch 12: 0.3136022969477564\n",
      "Average loss epoch 13: 0.31147762451741556\n",
      "Average loss epoch 14: 0.30839795580435203\n",
      "Average loss epoch 15: 0.3058674128268595\n",
      "Average loss epoch 16: 0.3045638434185589\n",
      "Average loss epoch 17: 0.3018722187953202\n",
      "Average loss epoch 18: 0.29968145338772895\n",
      "Average loss epoch 19: 0.29827701309706683\n",
      "Average loss epoch 20: 0.29690889467521026\n",
      "Average loss epoch 21: 0.2953184770964459\n",
      "Average loss epoch 22: 0.2933997828903694\n",
      "Average loss epoch 23: 0.2926741953271336\n",
      "Average loss epoch 24: 0.29119067098750223\n",
      "Average loss epoch 25: 0.290944593859895\n",
      "Average loss epoch 26: 0.28808702594612545\n",
      "Average loss epoch 27: 0.2883979259806927\n",
      "Average loss epoch 28: 0.2870937060994097\n",
      "Average loss epoch 29: 0.28482020251036594\n",
      "Optimization Finished!\n"
     ]
    }
   ],
   "source": [
    "a = Agent()\n",
    "a.train(mnist)"
   ]
  }
 ],
 "metadata": {
  "anaconda-cloud": {},
  "kernelspec": {
   "display_name": "Python [conda env:tensorflow-gpu]",
   "language": "python",
   "name": "conda-env-tensorflow-gpu-py"
  },
  "language_info": {
   "codemirror_mode": {
    "name": "ipython",
    "version": 3
   },
   "file_extension": ".py",
   "mimetype": "text/x-python",
   "name": "python",
   "nbconvert_exporter": "python",
   "pygments_lexer": "ipython3",
   "version": "3.5.2"
  }
 },
 "nbformat": 4,
 "nbformat_minor": 1
}
